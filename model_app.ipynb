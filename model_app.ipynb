{
  "nbformat": 4,
  "nbformat_minor": 0,
  "metadata": {
    "colab": {
      "provenance": [],
      "authorship_tag": "ABX9TyPEcuwrus71cAAg9UqHq3cy",
      "include_colab_link": true
    },
    "kernelspec": {
      "name": "python3",
      "display_name": "Python 3"
    },
    "language_info": {
      "name": "python"
    }
  },
  "cells": [
    {
      "cell_type": "markdown",
      "metadata": {
        "id": "view-in-github",
        "colab_type": "text"
      },
      "source": [
        "<a href=\"https://colab.research.google.com/github/ShriMLEngineer/furniture_classification/blob/main/model_app.ipynb\" target=\"_parent\"><img src=\"https://colab.research.google.com/assets/colab-badge.svg\" alt=\"Open In Colab\"/></a>"
      ]
    },
    {
      "cell_type": "code",
      "execution_count": 1,
      "metadata": {
        "id": "RVUhZJ6WUJjb"
      },
      "outputs": [],
      "source": [
        "from flask import Flask, request, jsonify\n",
        "import numpy as np\n",
        "from PIL import Image\n",
        "import torch\n",
        "\n",
        "app = Flask(__name__)\n",
        "\n",
        "# Load the model\n",
        "path = '/content/furniture_classification/detr-main'\n",
        "\n",
        "model = torch.hub.load(path, 'detr_resnet50', source=\"local\", pretrained=True, num_classes=4)\n",
        "checkpoint = torch.load(\"/content/furniture_classification/outputs/checkpoint.pth\", map_location='cpu')\n",
        "\n",
        "model.load_state_dict(checkpoint['model'], strict=False)\n",
        "model.eval();\n",
        "\n",
        "\n",
        "# Define a route for image classification\n",
        "@app.route('/predict', methods=['POST'])\n",
        "def predict():\n",
        "    # Get the image file from the request\n",
        "    file = request.files['image']\n",
        "\n",
        "    # Open the image file and preprocess it\n",
        "    img = Image.open(file)\n",
        "    img = img.resize((224, 224))\n",
        "    img = np.array(img) / 255.0\n",
        "    img = img.reshape(1, 224, 224, 3)\n",
        "\n",
        "    # Use the model to make predictions\n",
        "    preds = model.predict(img)\n",
        "\n",
        "    # Convert the predictions to class labels\n",
        "    classes = np.argmax(preds, axis=1)\n",
        "\n",
        "    # Return the class label as a JSON response\n",
        "    return jsonify({'class': int(classes[0])})\n",
        "\n",
        "if __name__ == '__main__':\n",
        "    app.run()"
      ]
    }
  ]
}