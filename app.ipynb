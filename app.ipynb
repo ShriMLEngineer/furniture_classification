!pip install fastapi uvicorn torch torchvision Pillow python-multipart

from fastapi import FastAPI, File, UploadFile
from PIL import Image
import io
import torch
import torchvision.transforms as T
import asyncio

app = FastAPI()

path = '/content/furniture_classification/detr-main'

model = torch.hub.load(path, 'detr_resnet50', source="local", pretrained=True, num_classes=4)
checkpoint = torch.load("/content/furniture_classification/outputs/checkpoint.pth", map_location='cpu')

model.load_state_dict(checkpoint['model'], strict=False)
model.eval();

@app.post('/predict')
async def predict(file: UploadFile = File(...)):

  contents = await file.read()
  img = Image.open(io.BytesIO(contents)).convert('RGB')
  img = img.resize((224,224))
  img = torch.unsqueeze(T.ToTensor()(img), 0)
  pred = model(img)

  predicted_class = torch.argmax(pred).item()

  return{'class': predicted_class}
